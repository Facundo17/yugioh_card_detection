{
 "cells": [
  {
   "cell_type": "markdown",
   "id": "5d0c4069",
   "metadata": {},
   "source": [
    "Tomar imagenes del dataset_yugioh y guardarlas con el prefijo \"Train\""
   ]
  },
  {
   "cell_type": "code",
   "execution_count": 1,
   "id": "b0948c9a",
   "metadata": {},
   "outputs": [
    {
     "name": "stdout",
     "output_type": "stream",
     "text": [
      "$_32.jpeg -> train82.jpg\n",
      "6a422ee4b9e064cc324da2945c06671c.jpeg -> train83.jpg\n",
      "anime-duel-monsters-cards-that-will-probably-never-become-v0-9cvkoy6n702d1.webp -> train84.jpg\n",
      "anime-duel-monsters-cards-that-will-probably-never-become-v0-h4hx63um702d1.webp -> train85.jpg\n",
      "fzu8ii0ryp061.webp -> train86.jpg\n",
      "question-what-are-the-most-annoying-cards-to-deal-with-for-v0-i3tocfzwqvbb1.webp -> train87.jpg\n",
      "s-l1200 (1).jpg -> train88.jpg\n",
      "s-l1200 (10).jpg -> train89.jpg\n",
      "s-l1200 (2).jpg -> train90.jpg\n",
      "s-l1200 (3).jpg -> train91.jpg\n",
      "s-l1200 (4).jpg -> train92.jpg\n",
      "s-l1200 (5).jpg -> train93.jpg\n",
      "s-l1200 (6).jpg -> train94.jpg\n",
      "s-l1200 (7).jpg -> train95.jpg\n",
      "s-l1200 (8).jpg -> train96.jpg\n",
      "s-l1200 (9).jpg -> train97.jpg\n",
      "s-l1200.jpg -> train98.jpg\n",
      "s-l400 (1).jpg -> train99.jpg\n",
      "s-l400.jpg -> train100.jpg\n",
      "Top-25-Most-Rarest-Expensive-Yu-Gi-Oh-Cards-In-The-World.jpg -> train101.jpg\n",
      "Se generaron 20 imágenes\n"
     ]
    }
   ],
   "source": [
    "import os\n",
    "from PIL import Image\n",
    "\n",
    "# Ruta de origen con imágenes\n",
    "input_folder = '../dataset_yugioh'\n",
    "\n",
    "# Ruta de destino donde se guardarán las imágenes renombradas en formato jpg\n",
    "output_folder = '../images'\n",
    "\n",
    "# Asegúrate de que la carpeta de destino exista\n",
    "os.makedirs(output_folder, exist_ok=True)\n",
    "\n",
    "count = 0\n",
    "num = 81\n",
    "\n",
    "# Recorre las imágenes en la carpeta de origen\n",
    "for index, filename in enumerate(os.listdir(input_folder)):\n",
    "    input_path = os.path.join(input_folder, filename)\n",
    "\n",
    "    try:\n",
    "        # Abre la imagen\n",
    "        with Image.open(input_path) as img:\n",
    "            # Convertir a RGB si no está ya en ese modo\n",
    "            if img.mode != 'RGB':\n",
    "                img = img.convert('RGB')\n",
    "\n",
    "            # Crea el nuevo nombre de archivo\n",
    "            new_filename = f'train{num + 1}.jpg'\n",
    "            output_path = os.path.join(output_folder, new_filename)\n",
    "            \n",
    "            # Guarda la imagen en formato JPG\n",
    "            img.save(output_path, 'JPEG')\n",
    "            \n",
    "            count += 1\n",
    "            num+= 1\n",
    "\n",
    "            print(f'{filename} -> {new_filename}')\n",
    "    except Exception as e:\n",
    "        print(f'Error procesando {filename}: {e}')\n",
    "\n",
    "print(f'Se generaron {count} imágenes')"
   ]
  }
 ],
 "metadata": {
  "kernelspec": {
   "display_name": "virtualenv",
   "language": "python",
   "name": "python3"
  },
  "language_info": {
   "codemirror_mode": {
    "name": "ipython",
    "version": 3
   },
   "file_extension": ".py",
   "mimetype": "text/x-python",
   "name": "python",
   "nbconvert_exporter": "python",
   "pygments_lexer": "ipython3",
   "version": "3.9.0"
  }
 },
 "nbformat": 4,
 "nbformat_minor": 5
}
