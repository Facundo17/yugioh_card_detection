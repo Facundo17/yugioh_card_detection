{
 "cells": [
  {
   "cell_type": "markdown",
   "id": "5d0c4069",
   "metadata": {},
   "source": [
    "Tomar imagenes del dataset_yugioh y guardarlas con el prefijo \"Train\""
   ]
  },
  {
   "cell_type": "code",
   "execution_count": 2,
   "id": "b0948c9a",
   "metadata": {},
   "outputs": [
    {
     "name": "stdout",
     "output_type": "stream",
     "text": [
      "10778441fe9ae7180ec2146c13fe04bcee9248fd.jpg -> train42.jpg\n",
      "5eeacbe66d7185001d72e687.jpg -> train43.jpg\n",
      "907c94bd095b91a2a67ffde22660b0a6e93f6f9d.jpg -> train44.jpg\n",
      "dd58c0d01fb2c5801b741052b2805e0df3e7a4af.jpg -> train45.jpg\n",
      "de7f8f05821a845c57612f859a6996065cd69ce6.jpg -> train46.jpg\n",
      "how_to_spot_Yugioh_cards_6_480x480.webp -> train47.jpg\n",
      "images (1).jpeg -> train48.jpg\n",
      "images.jpeg -> train49.jpg\n",
      "IMG_2704_1024x1024@2x.webp -> train50.jpg\n",
      "IMG_9663.jpeg -> train51.jpg\n",
      "maxresdefault.jpg -> train52.jpg\n",
      "most-expensive-yu-gi-oh-cards_batch1_800x800.webp -> train53.jpg\n",
      "most-expensive-yugioh-cards.jpg -> train54.jpg\n",
      "Error procesando nov-21-2004-us-krt-lifestyle-story-slugged-hby-fam-yugioh-krt-photo-by-paul-topleakron-beacon-journal-march-3-tony-flores-13-plays-a-game-of-yu-gi-oh!-in-a-weekly-tournament-in-cuyahoga-falls-ohio-in-janua.jpg: [Errno 2] No such file or directory: '../dataset_yugioh\\\\nov-21-2004-us-krt-lifestyle-story-slugged-hby-fam-yugioh-krt-photo-by-paul-topleakron-beacon-journal-march-3-tony-flores-13-plays-a-game-of-yu-gi-oh!-in-a-weekly-tournament-in-cuyahoga-falls-ohio-in-janua.jpg'\n",
      "nvsy7tvmioy01.webp -> train55.jpg\n",
      "s-l1200 (1).jpg -> train56.jpg\n",
      "s-l1200 (10).jpg -> train57.jpg\n",
      "s-l1200 (11).jpg -> train58.jpg\n",
      "s-l1200 (12).jpg -> train59.jpg\n",
      "s-l1200 (13).jpg -> train60.jpg\n",
      "s-l1200 (14).jpg -> train61.jpg\n",
      "s-l1200 (15).jpg -> train62.jpg\n",
      "s-l1200 (16).jpg -> train63.jpg\n",
      "s-l1200 (17).jpg -> train64.jpg\n",
      "s-l1200 (18).jpg -> train65.jpg\n",
      "s-l1200 (2).jpg -> train66.jpg\n",
      "s-l1200 (3).jpg -> train67.jpg\n",
      "s-l1200 (4).jpg -> train68.jpg\n",
      "s-l1200 (5).jpg -> train69.jpg\n",
      "s-l1200 (6).jpg -> train70.jpg\n",
      "s-l1200 (7).jpg -> train71.jpg\n",
      "s-l1200 (8).jpg -> train72.jpg\n",
      "s-l1200 (9).jpg -> train73.jpg\n",
      "s-l1200.jpg -> train74.jpg\n",
      "s-l400.jpg -> train75.jpg\n",
      "sddefault.jpg -> train76.jpg\n",
      "why-the-condition-of-the-cards-matters-1731360869.jpg -> train77.jpg\n",
      "yu-gi-oh-cards-A5WJDF.jpg -> train78.jpg\n",
      "yu-gi-oh-cards-original-10-per-pack.jpg -> train79.jpg\n",
      "yu-gi-oh-tcg-card-lay.webp -> train80.jpg\n",
      "Se generaron 39 imágenes\n"
     ]
    }
   ],
   "source": [
    "import os\n",
    "from PIL import Image\n",
    "\n",
    "# Ruta de origen con imágenes\n",
    "input_folder = '../dataset_yugioh'\n",
    "\n",
    "# Ruta de destino donde se guardarán las imágenes renombradas en formato jpg\n",
    "output_folder = '../images'\n",
    "\n",
    "# Asegúrate de que la carpeta de destino exista\n",
    "os.makedirs(output_folder, exist_ok=True)\n",
    "\n",
    "count = 0\n",
    "num = 41\n",
    "\n",
    "# Recorre las imágenes en la carpeta de origen\n",
    "for index, filename in enumerate(os.listdir(input_folder)):\n",
    "    input_path = os.path.join(input_folder, filename)\n",
    "\n",
    "    try:\n",
    "        # Abre la imagen\n",
    "        with Image.open(input_path) as img:\n",
    "            # Convertir a RGB si no está ya en ese modo\n",
    "            if img.mode != 'RGB':\n",
    "                img = img.convert('RGB')\n",
    "\n",
    "            # Crea el nuevo nombre de archivo\n",
    "            new_filename = f'train{num + 1}.jpg'\n",
    "            output_path = os.path.join(output_folder, new_filename)\n",
    "            \n",
    "            # Guarda la imagen en formato JPG\n",
    "            img.save(output_path, 'JPEG')\n",
    "            \n",
    "            count += 1\n",
    "            num+= 1\n",
    "\n",
    "            print(f'{filename} -> {new_filename}')\n",
    "    except Exception as e:\n",
    "        print(f'Error procesando {filename}: {e}')\n",
    "\n",
    "print(f'Se generaron {count} imágenes')"
   ]
  }
 ],
 "metadata": {
  "kernelspec": {
   "display_name": "virtualenv",
   "language": "python",
   "name": "python3"
  },
  "language_info": {
   "codemirror_mode": {
    "name": "ipython",
    "version": 3
   },
   "file_extension": ".py",
   "mimetype": "text/x-python",
   "name": "python",
   "nbconvert_exporter": "python",
   "pygments_lexer": "ipython3",
   "version": "3.9.0"
  }
 },
 "nbformat": 4,
 "nbformat_minor": 5
}
