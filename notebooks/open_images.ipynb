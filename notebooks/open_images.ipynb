{
 "cells": [
  {
   "cell_type": "markdown",
   "id": "751139f1",
   "metadata": {},
   "source": [
    "1. Import dependencies"
   ]
  },
  {
   "cell_type": "code",
   "execution_count": 2,
   "id": "15edfb26",
   "metadata": {},
   "outputs": [],
   "source": [
    "# Import opencv\n",
    "import cv2\n",
    "import uuid\n",
    "import os\n",
    "import time"
   ]
  },
  {
   "cell_type": "markdown",
   "id": "e3690efd",
   "metadata": {},
   "source": [
    "2. Define Images to Collect"
   ]
  },
  {
   "cell_type": "code",
   "execution_count": null,
   "id": "41e06380",
   "metadata": {},
   "outputs": [],
   "source": [
    "# types of cards\n",
    "labels = ['monster','spell','trap']"
   ]
  },
  {
   "cell_type": "markdown",
   "id": "ea9ef235",
   "metadata": {},
   "source": [
    "3. Convert images and anotations to a **Tensorflow Record**"
   ]
  }
 ],
 "metadata": {
  "kernelspec": {
   "display_name": "virtualenv",
   "language": "python",
   "name": "python3"
  },
  "language_info": {
   "codemirror_mode": {
    "name": "ipython",
    "version": 3
   },
   "file_extension": ".py",
   "mimetype": "text/x-python",
   "name": "python",
   "nbconvert_exporter": "python",
   "pygments_lexer": "ipython3",
   "version": "3.9.0"
  }
 },
 "nbformat": 4,
 "nbformat_minor": 5
}
