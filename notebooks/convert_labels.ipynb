{
 "cells": [
  {
   "cell_type": "markdown",
   "id": "a952fa9e",
   "metadata": {},
   "source": [
    "Convert XML files to .csv"
   ]
  },
  {
   "cell_type": "code",
   "execution_count": null,
   "id": "2b94efad",
   "metadata": {},
   "outputs": [],
   "source": [
    "import xml.etree.ElementTree as ET\n",
    "import pandas as pd\n",
    "import os\n",
    "\n",
    "def voc_to_dataframe(annotations_dir):\n",
    "    rows = []\n",
    "    for filename in os.listdir(annotations_dir):\n",
    "        if not filename.endswith(\".xml\"):\n",
    "            continue\n",
    "        tree = ET.parse(os.path.join(annotations_dir, filename))\n",
    "        root = tree.getroot()\n",
    "        \n",
    "        # Access to property names\n",
    "        image_filename = root.find(\"filename\").text \n",
    "\n",
    "        for obj in root.findall(\"object\"):\n",
    "            label = obj.find(\"name\").text\n",
    "\n",
    "            bbox = obj.find(\"bndbox\")\n",
    "            xmin = int(bbox.find(\"xmin\").text)\n",
    "            ymin = int(bbox.find(\"ymin\").text)\n",
    "            xmax = int(bbox.find(\"xmax\").text)\n",
    "            ymax = int(bbox.find(\"ymax\").text)\n",
    "\n",
    "            rows.append([image_filename, xmin, ymin, xmax, ymax, label])\n",
    "\n",
    "    # Convert to list with headers\n",
    "    return pd.DataFrame(rows, columns=[\"filename\", \"xmin\", \"ymin\", \"xmax\", \"ymax\", \"class\"])\n"
   ]
  },
  {
   "cell_type": "markdown",
   "id": "48394808",
   "metadata": {},
   "source": [
    "Save XMLs as .csv"
   ]
  },
  {
   "cell_type": "code",
   "execution_count": 17,
   "id": "dd787fed",
   "metadata": {},
   "outputs": [],
   "source": [
    "path = \"../test\"\n",
    "filename = \"annotations.csv\"\n",
    "df = voc_to_dataframe(\"../test\")\n",
    "\n",
    "# check if anotations exits\n",
    "if os.path.exists(path=filename):\n",
    "    \n",
    "    # add rows to existent file\n",
    "    dt = pd.read_csv(filename)\n",
    "    result = pd.concat([dt, df], axis=0)\n",
    "    \n",
    "    result.to_csv(filename, index=False)\n",
    "else:\n",
    "    # create new file\n",
    "    df.to_csv(filename, index=False)  # Opcional si querés guardar"
   ]
  }
 ],
 "metadata": {
  "kernelspec": {
   "display_name": "virtualenv",
   "language": "python",
   "name": "python3"
  },
  "language_info": {
   "codemirror_mode": {
    "name": "ipython",
    "version": 3
   },
   "file_extension": ".py",
   "mimetype": "text/x-python",
   "name": "python",
   "nbconvert_exporter": "python",
   "pygments_lexer": "ipython3",
   "version": "3.9.0"
  }
 },
 "nbformat": 4,
 "nbformat_minor": 5
}
